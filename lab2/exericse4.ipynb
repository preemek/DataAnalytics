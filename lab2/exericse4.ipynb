{
  "cells": [
    {
      "cell_type": "code",
      "execution_count": null,
      "id": "4322f383",
      "metadata": {
        "id": "4322f383"
      },
      "outputs": [],
      "source": [
        "from cmdstanpy import CmdStanModel\n",
        "import pandas as pd\n",
        "import arviz as az \n",
        "import numpy as np\n",
        "import matplotlib.pyplot as plt\n",
        "import scipy.stats as stats"
      ]
    },
    {
      "cell_type": "code",
      "execution_count": null,
      "id": "c1d4ac29",
      "metadata": {
        "id": "c1d4ac29",
        "outputId": "6325ab7d-575f-4cf5-c44a-0f7b77d85b97",
        "colab": {
          "referenced_widgets": [
            "b19517b6538f406abbf30027ce890479"
          ]
        }
      },
      "outputs": [
        {
          "name": "stderr",
          "output_type": "stream",
          "text": [
            "INFO:cmdstanpy:found newer exe file, not recompiling\n",
            "INFO:cmdstanpy:CmdStan start processing\n"
          ]
        },
        {
          "data": {
            "application/vnd.jupyter.widget-view+json": {
              "model_id": "b19517b6538f406abbf30027ce890479",
              "version_major": 2,
              "version_minor": 0
            },
            "text/plain": [
              "chain 1 |          | 00:00 Status"
            ]
          },
          "metadata": {},
          "output_type": "display_data"
        },
        {
          "name": "stdout",
          "output_type": "stream",
          "text": [
            "                                                                                                                        "
          ]
        },
        {
          "name": "stderr",
          "output_type": "stream",
          "text": [
            "INFO:cmdstanpy:CmdStan done processing.\n"
          ]
        },
        {
          "name": "stdout",
          "output_type": "stream",
          "text": [
            "\n"
          ]
        }
      ],
      "source": [
        "model_tune = CmdStanModel(stan_file='code_6.stan')\n",
        "\n",
        "F = len('Przemek')\n",
        "L = len('Mysliwiec')\n",
        "y0 = 2\n",
        "\n",
        "data={'y_guess':[y0],\n",
        "        'theta':[(F+L)/2]}\n",
        "tunes = model_tune.sample(data=data, fixed_param=True, iter_sampling=1, iter_warmup=0, chains = 1)"
      ]
    },
    {
      "cell_type": "code",
      "execution_count": null,
      "id": "735793d7",
      "metadata": {
        "id": "735793d7",
        "outputId": "f46d1467-0e46-4840-bbf3-575767eb5f93"
      },
      "outputs": [
        {
          "data": {
            "text/html": [
              "<div>\n",
              "<style scoped>\n",
              "    .dataframe tbody tr th:only-of-type {\n",
              "        vertical-align: middle;\n",
              "    }\n",
              "\n",
              "    .dataframe tbody tr th {\n",
              "        vertical-align: top;\n",
              "    }\n",
              "\n",
              "    .dataframe thead th {\n",
              "        text-align: right;\n",
              "    }\n",
              "</style>\n",
              "<table border=\"1\" class=\"dataframe\">\n",
              "  <thead>\n",
              "    <tr style=\"text-align: right;\">\n",
              "      <th></th>\n",
              "      <th>lp__</th>\n",
              "      <th>accept_stat__</th>\n",
              "      <th>sigma</th>\n",
              "    </tr>\n",
              "  </thead>\n",
              "  <tbody>\n",
              "    <tr>\n",
              "      <th>0</th>\n",
              "      <td>0.0</td>\n",
              "      <td>0.0</td>\n",
              "      <td>1.94112</td>\n",
              "    </tr>\n",
              "  </tbody>\n",
              "</table>\n",
              "</div>"
            ],
            "text/plain": [
              "   lp__  accept_stat__    sigma\n",
              "0   0.0            0.0  1.94112"
            ]
          },
          "execution_count": 5,
          "metadata": {},
          "output_type": "execute_result"
        }
      ],
      "source": [
        "tunes.draws_pd()"
      ]
    },
    {
      "cell_type": "code",
      "execution_count": null,
      "id": "7f80cf12",
      "metadata": {
        "id": "7f80cf12"
      },
      "outputs": [],
      "source": [
        ""
      ]
    }
  ],
  "metadata": {
    "kernelspec": {
      "display_name": "Python 3 (ipykernel)",
      "language": "python",
      "name": "python3"
    },
    "language_info": {
      "codemirror_mode": {
        "name": "ipython",
        "version": 3
      },
      "file_extension": ".py",
      "mimetype": "text/x-python",
      "name": "python",
      "nbconvert_exporter": "python",
      "pygments_lexer": "ipython3",
      "version": "3.9.7"
    },
    "colab": {
      "name": "exericse4.ipynb",
      "provenance": []
    }
  },
  "nbformat": 4,
  "nbformat_minor": 5
}