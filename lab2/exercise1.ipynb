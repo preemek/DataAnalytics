{
  "cells": [
    {
      "cell_type": "code",
      "execution_count": null,
      "id": "5c4019c4",
      "metadata": {
        "id": "5c4019c4"
      },
      "outputs": [],
      "source": [
        "#Przemek Mysliwiec\n",
        "# F = 7, L = 9\n",
        "\n",
        "from cmdstanpy import CmdStanModel\n",
        "import pandas as pd\n",
        "import arviz as az \n",
        "import numpy as np\n",
        "import matplotlib.pyplot as plt\n",
        "import scipy.stats as stats"
      ]
    },
    {
      "cell_type": "code",
      "execution_count": null,
      "id": "5a9f11d3",
      "metadata": {
        "id": "5a9f11d3",
        "outputId": "d3da0ce5-2866-45a9-e38c-3a91bf933040"
      },
      "outputs": [
        {
          "name": "stderr",
          "output_type": "stream",
          "text": [
            "INFO:cmdstanpy:compiling stan file C:\\Users\\User\\Documents\\Data Analytics 2022 Lab\\Lab2\\Exercise 1\\code_1.stan to exe file C:\\Users\\User\\Documents\\Data Analytics 2022 Lab\\Lab2\\Exercise 1\\code_1.exe\n",
            "INFO:cmdstanpy:compiled model executable: C:\\Users\\User\\Documents\\Data Analytics 2022 Lab\\Lab2\\Exercise 1\\code_1.exe\n",
            "WARNING:cmdstanpy:Stan compiler has produced 1 warnings:\n",
            "WARNING:cmdstanpy:\n",
            "--- Translating Stan model to C++ code ---\n",
            "bin/stanc.exe  --o=C:/Users/User/DOCUME~1/DATAAN~1/Lab2/EXERCI~1/code_1.hpp C:/Users/User/DOCUME~1/DATAAN~1/Lab2/EXERCI~1/code_1.stan\n",
            "Warning in 'C:/Users/User/DOCUME~1/DATAAN~1/Lab2/EXERCI~1/code_1.stan', line 7, column 1: Declaration\n",
            "    of arrays by placing brackets after a variable name is deprecated and\n",
            "    will be removed in Stan 2.32.0. Instead use the array keyword before the\n",
            "    type. This can be changed automatically using the auto-format flag to\n",
            "    stanc\n",
            "\n",
            "--- Compiling, linking C++ code ---\n",
            "g++ -std=c++1y -m64 -D_REENTRANT -Wall -Wno-unused-function -Wno-uninitialized -Wno-unused-but-set-variable -Wno-unused-variable -Wno-sign-compare -Wno-unused-local-typedefs -Wno-int-in-bool-context -Wno-attributes -Wno-ignored-attributes      -I stan/lib/stan_math/lib/tbb_2020.3/include    -O3 -I src -I stan/src -I lib/rapidjson_1.1.0/ -I lib/CLI11-1.9.1/ -I stan/lib/stan_math/ -I stan/lib/stan_math/lib/eigen_3.3.9 -I stan/lib/stan_math/lib/boost_1.75.0 -I stan/lib/stan_math/lib/sundials_6.0.0/include -I stan/lib/stan_math/lib/sundials_6.0.0/src/sundials  -D_USE_MATH_DEFINES  -DBOOST_DISABLE_ASSERTS          -c  -x c++ -o C:/Users/User/DOCUME~1/DATAAN~1/Lab2/EXERCI~1/code_1.o C:/Users/User/DOCUME~1/DATAAN~1/Lab2/EXERCI~1/code_1.hpp\n",
            "g++ -std=c++1y -m64 -D_REENTRANT -Wall -Wno-unused-function -Wno-uninitialized -Wno-unused-but-set-variable -Wno-unused-variable -Wno-sign-compare -Wno-unused-local-typedefs -Wno-int-in-bool-context -Wno-attributes -Wno-ignored-attributes      -I stan/lib/stan_math/lib/tbb_2020.3/include    -O3 -I src -I stan/src -I lib/rapidjson_1.1.0/ -I lib/CLI11-1.9.1/ -I stan/lib/stan_math/ -I stan/lib/stan_math/lib/eigen_3.3.9 -I stan/lib/stan_math/lib/boost_1.75.0 -I stan/lib/stan_math/lib/sundials_6.0.0/include -I stan/lib/stan_math/lib/sundials_6.0.0/src/sundials  -D_USE_MATH_DEFINES  -DBOOST_DISABLE_ASSERTS                -Wl,-L,\"C:/Users/User/.cmdstan/cmdstan-2.29.1/stan/lib/stan_math/lib/tbb\" -Wl,-rpath,\"C:/Users/User/.cmdstan/cmdstan-2.29.1/stan/lib/stan_math/lib/tbb\"      C:/Users/User/DOCUME~1/DATAAN~1/Lab2/EXERCI~1/code_1.o src/cmdstan/main.o  -static-libgcc -static-libstdc++      -Wl,-L,\"C:/Users/User/.cmdstan/cmdstan-2.29.1/stan/lib/stan_math/lib/tbb\" -Wl,-rpath,\"C:/Users/User/.cmdstan/cmdstan-2.29.1/stan/lib/stan_math/lib/tbb\"   stan/lib/stan_math/lib/sundials_6.0.0/lib/libsundials_nvecserial.a stan/lib/stan_math/lib/sundials_6.0.0/lib/libsundials_cvodes.a stan/lib/stan_math/lib/sundials_6.0.0/lib/libsundials_idas.a stan/lib/stan_math/lib/sundials_6.0.0/lib/libsundials_kinsol.a  stan/lib/stan_math/lib/tbb/tbb.dll -o C:/Users/User/DOCUME~1/DATAAN~1/Lab2/EXERCI~1/code_1.exe\n",
            "rm -f C:/Users/User/DOCUME~1/DATAAN~1/Lab2/EXERCI~1/code_1.o\n",
            "\n"
          ]
        }
      ],
      "source": [
        "gen_quant = CmdStanModel(stan_file='code_1.stan')"
      ]
    },
    {
      "cell_type": "code",
      "execution_count": null,
      "id": "43c98442",
      "metadata": {
        "colab": {
          "referenced_widgets": [
            "a254e0213a1a4e81a753766a3b8f2c6d"
          ]
        },
        "id": "43c98442",
        "outputId": "fc3f233d-0aae-44e6-abac-604b3a05eb67"
      },
      "outputs": [
        {
          "name": "stderr",
          "output_type": "stream",
          "text": [
            "INFO:cmdstanpy:CmdStan start processing\n"
          ]
        },
        {
          "data": {
            "application/vnd.jupyter.widget-view+json": {
              "model_id": "a254e0213a1a4e81a753766a3b8f2c6d",
              "version_major": 2,
              "version_minor": 0
            },
            "text/plain": [
              "chain 1 |          | 00:00 Status"
            ]
          },
          "metadata": {},
          "output_type": "display_data"
        },
        {
          "name": "stdout",
          "output_type": "stream",
          "text": [
            "                                                                                                                        "
          ]
        },
        {
          "name": "stderr",
          "output_type": "stream",
          "text": [
            "INFO:cmdstanpy:CmdStan done processing.\n"
          ]
        },
        {
          "name": "stdout",
          "output_type": "stream",
          "text": [
            "\n"
          ]
        }
      ],
      "source": [
        "samples = gen_quant.sample(data={'M':7}, \n",
        "                            fixed_param=True, \n",
        "                            iter_sampling=1000, \n",
        "                            iter_warmup=0, \n",
        "                            chains = 1)"
      ]
    },
    {
      "cell_type": "code",
      "execution_count": null,
      "id": "03359407",
      "metadata": {
        "id": "03359407",
        "outputId": "12d731f9-dd7c-4127-91d8-b98733837757"
      },
      "outputs": [
        {
          "data": {
            "text/html": [
              "<div>\n",
              "<style scoped>\n",
              "    .dataframe tbody tr th:only-of-type {\n",
              "        vertical-align: middle;\n",
              "    }\n",
              "\n",
              "    .dataframe tbody tr th {\n",
              "        vertical-align: top;\n",
              "    }\n",
              "\n",
              "    .dataframe thead th {\n",
              "        text-align: right;\n",
              "    }\n",
              "</style>\n",
              "<table border=\"1\" class=\"dataframe\">\n",
              "  <thead>\n",
              "    <tr style=\"text-align: right;\">\n",
              "      <th></th>\n",
              "      <th>lp__</th>\n",
              "      <th>accept_stat__</th>\n",
              "      <th>lambda</th>\n",
              "      <th>y_sim[1]</th>\n",
              "      <th>y_sim[2]</th>\n",
              "      <th>y_sim[3]</th>\n",
              "      <th>y_sim[4]</th>\n",
              "      <th>y_sim[5]</th>\n",
              "      <th>y_sim[6]</th>\n",
              "      <th>y_sim[7]</th>\n",
              "    </tr>\n",
              "  </thead>\n",
              "  <tbody>\n",
              "    <tr>\n",
              "      <th>0</th>\n",
              "      <td>0.0</td>\n",
              "      <td>0.0</td>\n",
              "      <td>29.17640</td>\n",
              "      <td>27.0</td>\n",
              "      <td>31.0</td>\n",
              "      <td>25.0</td>\n",
              "      <td>16.0</td>\n",
              "      <td>28.0</td>\n",
              "      <td>23.0</td>\n",
              "      <td>32.0</td>\n",
              "    </tr>\n",
              "    <tr>\n",
              "      <th>1</th>\n",
              "      <td>0.0</td>\n",
              "      <td>0.0</td>\n",
              "      <td>191.77600</td>\n",
              "      <td>171.0</td>\n",
              "      <td>205.0</td>\n",
              "      <td>215.0</td>\n",
              "      <td>188.0</td>\n",
              "      <td>193.0</td>\n",
              "      <td>176.0</td>\n",
              "      <td>190.0</td>\n",
              "    </tr>\n",
              "    <tr>\n",
              "      <th>2</th>\n",
              "      <td>0.0</td>\n",
              "      <td>0.0</td>\n",
              "      <td>9.09788</td>\n",
              "      <td>13.0</td>\n",
              "      <td>9.0</td>\n",
              "      <td>7.0</td>\n",
              "      <td>9.0</td>\n",
              "      <td>10.0</td>\n",
              "      <td>19.0</td>\n",
              "      <td>12.0</td>\n",
              "    </tr>\n",
              "    <tr>\n",
              "      <th>3</th>\n",
              "      <td>0.0</td>\n",
              "      <td>0.0</td>\n",
              "      <td>53.57980</td>\n",
              "      <td>65.0</td>\n",
              "      <td>46.0</td>\n",
              "      <td>53.0</td>\n",
              "      <td>58.0</td>\n",
              "      <td>59.0</td>\n",
              "      <td>52.0</td>\n",
              "      <td>65.0</td>\n",
              "    </tr>\n",
              "    <tr>\n",
              "      <th>4</th>\n",
              "      <td>0.0</td>\n",
              "      <td>0.0</td>\n",
              "      <td>42.48160</td>\n",
              "      <td>43.0</td>\n",
              "      <td>44.0</td>\n",
              "      <td>36.0</td>\n",
              "      <td>44.0</td>\n",
              "      <td>33.0</td>\n",
              "      <td>45.0</td>\n",
              "      <td>42.0</td>\n",
              "    </tr>\n",
              "    <tr>\n",
              "      <th>...</th>\n",
              "      <td>...</td>\n",
              "      <td>...</td>\n",
              "      <td>...</td>\n",
              "      <td>...</td>\n",
              "      <td>...</td>\n",
              "      <td>...</td>\n",
              "      <td>...</td>\n",
              "      <td>...</td>\n",
              "      <td>...</td>\n",
              "      <td>...</td>\n",
              "    </tr>\n",
              "    <tr>\n",
              "      <th>995</th>\n",
              "      <td>0.0</td>\n",
              "      <td>0.0</td>\n",
              "      <td>122.00700</td>\n",
              "      <td>110.0</td>\n",
              "      <td>132.0</td>\n",
              "      <td>106.0</td>\n",
              "      <td>131.0</td>\n",
              "      <td>140.0</td>\n",
              "      <td>113.0</td>\n",
              "      <td>119.0</td>\n",
              "    </tr>\n",
              "    <tr>\n",
              "      <th>996</th>\n",
              "      <td>0.0</td>\n",
              "      <td>0.0</td>\n",
              "      <td>132.23700</td>\n",
              "      <td>135.0</td>\n",
              "      <td>120.0</td>\n",
              "      <td>130.0</td>\n",
              "      <td>133.0</td>\n",
              "      <td>118.0</td>\n",
              "      <td>132.0</td>\n",
              "      <td>141.0</td>\n",
              "    </tr>\n",
              "    <tr>\n",
              "      <th>997</th>\n",
              "      <td>0.0</td>\n",
              "      <td>0.0</td>\n",
              "      <td>117.06800</td>\n",
              "      <td>118.0</td>\n",
              "      <td>119.0</td>\n",
              "      <td>113.0</td>\n",
              "      <td>112.0</td>\n",
              "      <td>122.0</td>\n",
              "      <td>110.0</td>\n",
              "      <td>128.0</td>\n",
              "    </tr>\n",
              "    <tr>\n",
              "      <th>998</th>\n",
              "      <td>0.0</td>\n",
              "      <td>0.0</td>\n",
              "      <td>202.28800</td>\n",
              "      <td>176.0</td>\n",
              "      <td>196.0</td>\n",
              "      <td>215.0</td>\n",
              "      <td>195.0</td>\n",
              "      <td>188.0</td>\n",
              "      <td>239.0</td>\n",
              "      <td>204.0</td>\n",
              "    </tr>\n",
              "    <tr>\n",
              "      <th>999</th>\n",
              "      <td>0.0</td>\n",
              "      <td>0.0</td>\n",
              "      <td>98.26780</td>\n",
              "      <td>88.0</td>\n",
              "      <td>96.0</td>\n",
              "      <td>116.0</td>\n",
              "      <td>99.0</td>\n",
              "      <td>90.0</td>\n",
              "      <td>99.0</td>\n",
              "      <td>92.0</td>\n",
              "    </tr>\n",
              "  </tbody>\n",
              "</table>\n",
              "<p>1000 rows × 10 columns</p>\n",
              "</div>"
            ],
            "text/plain": [
              "     lp__  accept_stat__     lambda  y_sim[1]  y_sim[2]  y_sim[3]  y_sim[4]  \\\n",
              "0     0.0            0.0   29.17640      27.0      31.0      25.0      16.0   \n",
              "1     0.0            0.0  191.77600     171.0     205.0     215.0     188.0   \n",
              "2     0.0            0.0    9.09788      13.0       9.0       7.0       9.0   \n",
              "3     0.0            0.0   53.57980      65.0      46.0      53.0      58.0   \n",
              "4     0.0            0.0   42.48160      43.0      44.0      36.0      44.0   \n",
              "..    ...            ...        ...       ...       ...       ...       ...   \n",
              "995   0.0            0.0  122.00700     110.0     132.0     106.0     131.0   \n",
              "996   0.0            0.0  132.23700     135.0     120.0     130.0     133.0   \n",
              "997   0.0            0.0  117.06800     118.0     119.0     113.0     112.0   \n",
              "998   0.0            0.0  202.28800     176.0     196.0     215.0     195.0   \n",
              "999   0.0            0.0   98.26780      88.0      96.0     116.0      99.0   \n",
              "\n",
              "     y_sim[5]  y_sim[6]  y_sim[7]  \n",
              "0        28.0      23.0      32.0  \n",
              "1       193.0     176.0     190.0  \n",
              "2        10.0      19.0      12.0  \n",
              "3        59.0      52.0      65.0  \n",
              "4        33.0      45.0      42.0  \n",
              "..        ...       ...       ...  \n",
              "995     140.0     113.0     119.0  \n",
              "996     118.0     132.0     141.0  \n",
              "997     122.0     110.0     128.0  \n",
              "998     188.0     239.0     204.0  \n",
              "999      90.0      99.0      92.0  \n",
              "\n",
              "[1000 rows x 10 columns]"
            ]
          },
          "execution_count": 11,
          "metadata": {},
          "output_type": "execute_result"
        }
      ],
      "source": [
        "#Create a pandas dataframe from resulting draws.\n",
        "df = samples.draws_pd()\n",
        "df"
      ]
    },
    {
      "cell_type": "code",
      "execution_count": null,
      "id": "d619ac29",
      "metadata": {
        "id": "d619ac29",
        "outputId": "dfeb283d-601a-42c8-8b03-522f5eb2a261"
      },
      "outputs": [
        {
          "data": {
            "image/png": "[encoded data removed]",
            "text/plain": [
              "<Figure size 1080x2160 with 8 Axes>"
            ]
          },
          "metadata": {
            "needs_background": "light"
          },
          "output_type": "display_data"
        }
      ],
      "source": [
        "#Plot a histogram for each of y_sim and lambda\n",
        "f, ax = plt.subplots(4,2, figsize=(15,30))\n",
        "df.hist('y_sim[1]',bins = 20, ax=ax[0][0])\n",
        "df.hist('y_sim[2]',bins = 20, ax=ax[0][1])\n",
        "df.hist('y_sim[3]',bins = 20, ax=ax[1][0])\n",
        "df.hist('y_sim[4]',bins = 20, ax=ax[1][1])\n",
        "df.hist('y_sim[5]',bins = 20, ax=ax[2][0])\n",
        "df.hist('y_sim[6]',bins = 20, ax=ax[2][1])\n",
        "df.hist('y_sim[7]',bins = 20, ax=ax[3][0])\n",
        "df.hist('lambda', bins = 20, ax=ax[3][1])\n",
        "plt.subplots_adjust(left=0.1, bottom=0.1, right=0.9, top=0.9, wspace=0.1, hspace=0.1)"
      ]
    }
  ],
  "metadata": {
    "interpreter": {
      "hash": "3acfd0d212cedc42c609187b82261e631eac706397bd7c45c61d4d9ddc6b7198"
    },
    "kernelspec": {
      "display_name": "Python 3.9.12 ('base')",
      "language": "python",
      "name": "python3"
    },
    "language_info": {
      "codemirror_mode": {
        "name": "ipython",
        "version": 3
      },
      "file_extension": ".py",
      "mimetype": "text/x-python",
      "name": "python",
      "nbconvert_exporter": "python",
      "pygments_lexer": "ipython3",
      "version": "3.9.12"
    },
    "colab": {
      "name": "exercise1.ipynb",
      "provenance": [],
      "collapsed_sections": []
    }
  },
  "nbformat": 4,
  "nbformat_minor": 5
}