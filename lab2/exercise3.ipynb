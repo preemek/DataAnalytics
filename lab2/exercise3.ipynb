{
  "cells": [
    {
      "cell_type": "code",
      "execution_count": null,
      "id": "82759f94",
      "metadata": {
        "id": "82759f94"
      },
      "outputs": [],
      "source": [
        "from cmdstanpy import CmdStanModel\n",
        "import pandas as pd\n",
        "import arviz as az \n",
        "import numpy as np\n",
        "import matplotlib.pyplot as plt\n",
        "import scipy.stats as stats"
      ]
    },
    {
      "cell_type": "code",
      "execution_count": null,
      "id": "d292a51a",
      "metadata": {
        "colab": {
          "referenced_widgets": [
            "c00108842e804e68b4f115de7d76daee",
            "2baa131d6b5c47dbbe5bf784cb707563",
            "8df5b6fad85b4c679fa0a97deea5354b",
            "31a667670fbb4ee09a20c11d349da6f5"
          ]
        },
        "id": "d292a51a",
        "outputId": "67dd833c-cc2e-4572-c618-04f3cf077fcf"
      },
      "outputs": [
        {
          "name": "stderr",
          "output_type": "stream",
          "text": [
            "INFO:cmdstanpy:compiling stan file C:\\Users\\User\\Documents\\Data Analytics 2022 Lab\\Lab2\\Exercise 3\\code_4.stan to exe file C:\\Users\\User\\Documents\\Data Analytics 2022 Lab\\Lab2\\Exercise 3\\code_4.exe\n",
            "INFO:cmdstanpy:compiled model executable: C:\\Users\\User\\Documents\\Data Analytics 2022 Lab\\Lab2\\Exercise 3\\code_4.exe\n",
            "INFO:cmdstanpy:created output directory: C:\\Users\\User\\Documents\\Data Analytics 2022 Lab\\Lab2\\Exercise 3\\samples\n",
            "INFO:cmdstanpy:CmdStan start processing\n"
          ]
        },
        {
          "data": {
            "application/vnd.jupyter.widget-view+json": {
              "model_id": "c00108842e804e68b4f115de7d76daee",
              "version_major": 2,
              "version_minor": 0
            },
            "text/plain": [
              "chain 1 |          | 00:00 Status"
            ]
          },
          "metadata": {},
          "output_type": "display_data"
        },
        {
          "data": {
            "application/vnd.jupyter.widget-view+json": {
              "model_id": "2baa131d6b5c47dbbe5bf784cb707563",
              "version_major": 2,
              "version_minor": 0
            },
            "text/plain": [
              "chain 2 |          | 00:00 Status"
            ]
          },
          "metadata": {},
          "output_type": "display_data"
        },
        {
          "data": {
            "application/vnd.jupyter.widget-view+json": {
              "model_id": "8df5b6fad85b4c679fa0a97deea5354b",
              "version_major": 2,
              "version_minor": 0
            },
            "text/plain": [
              "chain 3 |          | 00:00 Status"
            ]
          },
          "metadata": {},
          "output_type": "display_data"
        },
        {
          "data": {
            "application/vnd.jupyter.widget-view+json": {
              "model_id": "31a667670fbb4ee09a20c11d349da6f5",
              "version_major": 2,
              "version_minor": 0
            },
            "text/plain": [
              "chain 4 |          | 00:00 Status"
            ]
          },
          "metadata": {},
          "output_type": "display_data"
        },
        {
          "name": "stdout",
          "output_type": "stream",
          "text": [
            "                                                                                                                                                                                                                                                                                                                                                                                                                                                                                                "
          ]
        },
        {
          "name": "stderr",
          "output_type": "stream",
          "text": [
            "INFO:cmdstanpy:CmdStan done processing.\n"
          ]
        },
        {
          "name": "stdout",
          "output_type": "stream",
          "text": [
            "\n"
          ]
        },
        {
          "data": {
            "text/plain": [
              "\"Processing csv files: C:\\\\Users\\\\User\\\\Documents\\\\Data Analytics 2022 Lab\\\\Lab2\\\\Exercise 3\\\\samples\\\\code_4-20220313083621_1.csv, C:\\\\Users\\\\User\\\\Documents\\\\Data Analytics 2022 Lab\\\\Lab2\\\\Exercise 3\\\\samples\\\\code_4-20220313083621_2.csv, C:\\\\Users\\\\User\\\\Documents\\\\Data Analytics 2022 Lab\\\\Lab2\\\\Exercise 3\\\\samples\\\\code_4-20220313083621_3.csv, C:\\\\Users\\\\User\\\\Documents\\\\Data Analytics 2022 Lab\\\\Lab2\\\\Exercise 3\\\\samples\\\\code_4-20220313083621_4.csv\\n\\nChecking sampler transitions treedepth.\\nTreedepth satisfactory for all transitions.\\n\\nChecking sampler transitions for divergences.\\n8638 of 24000 (35.99%) transitions ended with a divergence.\\nThese divergent transitions indicate that HMC is not fully able to explore the posterior distribution.\\nTry increasing adapt delta closer to 1.\\nIf this doesn't remove all divergences, try to reparameterize the model.\\n\\nChecking E-BFMI - sampler transitions HMC potential energy.\\nE-BFMI satisfactory.\\n\\nEffective sample size satisfactory.\\n\\nSplit R-hat values satisfactory all parameters.\\n\\nProcessing complete.\\n\""
            ]
          },
          "execution_count": 2,
          "metadata": {},
          "output_type": "execute_result"
        }
      ],
      "source": [
        "model_gm1 = CmdStanModel(stan_file='code_4.stan')\n",
        "out_gamma1 = model_gm1.sample(output_dir='samples', iter_sampling=6000, iter_warmup=1000, seed=4838282)\n",
        "out_gamma1.diagnose()"
      ]
    },
    {
      "cell_type": "code",
      "execution_count": null,
      "id": "098646fe",
      "metadata": {
        "id": "098646fe",
        "outputId": "01abc275-bef7-45de-842e-67fae22b78b3"
      },
      "outputs": [
        {
          "data": {
            "image/png": "[encoded data removed]",
            "text/plain": [
              "<Figure size 432x288 with 1 Axes>"
            ]
          },
          "metadata": {
            "needs_background": "light"
          },
          "output_type": "display_data"
        },
        {
          "data": {
            "image/png": "[encoded data removed]",
            "text/plain": [
              "<Figure size 432x288 with 1 Axes>"
            ]
          },
          "metadata": {
            "needs_background": "light"
          },
          "output_type": "display_data"
        }
      ],
      "source": [
        "N=500\n",
        "xs = np.linspace(0,8,N)\n",
        "pdfs = stats.gamma.pdf(xs, 1.25, scale = 1 / 1.25) \n",
        "\n",
        "plt.plot(xs, pdfs, linewidth=2)\n",
        "\n",
        "\n",
        "\n",
        "theta1 = out_gamma1.stan_variable('theta')\n",
        "df = pd.DataFrame({'Theta': theta1})\n",
        "df.hist(bins = 160)\n",
        "\n",
        "plt.gca().set_xlabel(\"theta\")\n",
        "plt.gca().set_ylabel(\"Probability Density Function\")\n",
        "plt.show()"
      ]
    },
    {
      "cell_type": "code",
      "execution_count": null,
      "id": "455440fe",
      "metadata": {
        "colab": {
          "referenced_widgets": [
            "8489856f448b408a8b54d2caa547a5fc",
            "45ce7808e2994267ba99b77c3afe30dd",
            "50d382f74e194bf3934bdff29f470ade",
            "9dc3ba34e51747418e993f5171d27f22"
          ]
        },
        "id": "455440fe",
        "outputId": "ebf5d5d7-1497-4b93-fbc7-e86281da706f"
      },
      "outputs": [
        {
          "name": "stderr",
          "output_type": "stream",
          "text": [
            "INFO:cmdstanpy:compiling stan file C:\\Users\\User\\Documents\\Data Analytics 2022 Lab\\Lab2\\Exercise 3\\code_5.stan to exe file C:\\Users\\User\\Documents\\Data Analytics 2022 Lab\\Lab2\\Exercise 3\\code_5.exe\n",
            "INFO:cmdstanpy:compiled model executable: C:\\Users\\User\\Documents\\Data Analytics 2022 Lab\\Lab2\\Exercise 3\\code_5.exe\n",
            "INFO:cmdstanpy:CmdStan start processing\n"
          ]
        },
        {
          "data": {
            "application/vnd.jupyter.widget-view+json": {
              "model_id": "8489856f448b408a8b54d2caa547a5fc",
              "version_major": 2,
              "version_minor": 0
            },
            "text/plain": [
              "chain 1 |          | 00:00 Status"
            ]
          },
          "metadata": {},
          "output_type": "display_data"
        },
        {
          "data": {
            "application/vnd.jupyter.widget-view+json": {
              "model_id": "45ce7808e2994267ba99b77c3afe30dd",
              "version_major": 2,
              "version_minor": 0
            },
            "text/plain": [
              "chain 2 |          | 00:00 Status"
            ]
          },
          "metadata": {},
          "output_type": "display_data"
        },
        {
          "data": {
            "application/vnd.jupyter.widget-view+json": {
              "model_id": "50d382f74e194bf3934bdff29f470ade",
              "version_major": 2,
              "version_minor": 0
            },
            "text/plain": [
              "chain 3 |          | 00:00 Status"
            ]
          },
          "metadata": {},
          "output_type": "display_data"
        },
        {
          "data": {
            "application/vnd.jupyter.widget-view+json": {
              "model_id": "9dc3ba34e51747418e993f5171d27f22",
              "version_major": 2,
              "version_minor": 0
            },
            "text/plain": [
              "chain 4 |          | 00:00 Status"
            ]
          },
          "metadata": {},
          "output_type": "display_data"
        },
        {
          "name": "stdout",
          "output_type": "stream",
          "text": [
            "                                                                                                                                                                                                                                                                                                                                                                                                                                                                                                "
          ]
        },
        {
          "name": "stderr",
          "output_type": "stream",
          "text": [
            "INFO:cmdstanpy:CmdStan done processing.\n"
          ]
        },
        {
          "name": "stdout",
          "output_type": "stream",
          "text": [
            "\n"
          ]
        },
        {
          "data": {
            "text/plain": [
              "\"Processing csv files: C:\\\\Users\\\\User\\\\Documents\\\\Data Analytics 2022 Lab\\\\Lab2\\\\Exercise 3\\\\samples\\\\code_5-20220313083824_1.csv, C:\\\\Users\\\\User\\\\Documents\\\\Data Analytics 2022 Lab\\\\Lab2\\\\Exercise 3\\\\samples\\\\code_5-20220313083824_2.csv, C:\\\\Users\\\\User\\\\Documents\\\\Data Analytics 2022 Lab\\\\Lab2\\\\Exercise 3\\\\samples\\\\code_5-20220313083824_3.csv, C:\\\\Users\\\\User\\\\Documents\\\\Data Analytics 2022 Lab\\\\Lab2\\\\Exercise 3\\\\samples\\\\code_5-20220313083824_4.csv\\n\\nChecking sampler transitions treedepth.\\nTreedepth satisfactory for all transitions.\\n\\nChecking sampler transitions for divergences.\\n1 of 24000 (0.00%) transitions ended with a divergence.\\nThese divergent transitions indicate that HMC is not fully able to explore the posterior distribution.\\nTry increasing adapt delta closer to 1.\\nIf this doesn't remove all divergences, try to reparameterize the model.\\n\\nChecking E-BFMI - sampler transitions HMC potential energy.\\nE-BFMI satisfactory.\\n\\nEffective sample size satisfactory.\\n\\nSplit R-hat values satisfactory all parameters.\\n\\nProcessing complete.\\n\""
            ]
          },
          "execution_count": 4,
          "metadata": {},
          "output_type": "execute_result"
        }
      ],
      "source": [
        "model_gm2 = CmdStanModel(stan_file='code_5.stan')\n",
        "out_gamma2 = model_gm2.sample(output_dir='samples', iter_sampling=6000, iter_warmup=1000, seed=4838282)\n",
        "out_gamma2.diagnose()"
      ]
    },
    {
      "cell_type": "code",
      "execution_count": null,
      "id": "a1d12209",
      "metadata": {
        "id": "a1d12209",
        "outputId": "3c234ef0-5ecb-4ee7-a2ee-59939867dd96"
      },
      "outputs": [
        {
          "data": {
            "image/png": "[encoded data removed]",
            "text/plain": [
              "<Figure size 432x288 with 1 Axes>"
            ]
          },
          "metadata": {
            "needs_background": "light"
          },
          "output_type": "display_data"
        },
        {
          "data": {
            "image/png": "[encoded data removed]",
            "text/plain": [
              "<Figure size 432x288 with 1 Axes>"
            ]
          },
          "metadata": {
            "needs_background": "light"
          },
          "output_type": "display_data"
        }
      ],
      "source": [
        "N=500\n",
        "xs = np.linspace(0,8,N)\n",
        "pdfs = stats.gamma.pdf(xs, 1.25, scale = 1 / 1.25) \n",
        "\n",
        "plt.plot(xs, pdfs, linewidth=2)\n",
        "\n",
        "\n",
        "\n",
        "theta2 = out_gamma1.stan_variable('theta')\n",
        "df = pd.DataFrame({'Theta': theta2})\n",
        "df.hist(bins = 160)\n",
        "\n",
        "plt.gca().set_xlabel(\"theta\")\n",
        "plt.gca().set_ylabel(\"Probability Density Function\")\n",
        "plt.show()"
      ]
    }
  ],
  "metadata": {
    "kernelspec": {
      "display_name": "Python 3 (ipykernel)",
      "language": "python",
      "name": "python3"
    },
    "language_info": {
      "codemirror_mode": {
        "name": "ipython",
        "version": 3
      },
      "file_extension": ".py",
      "mimetype": "text/x-python",
      "name": "python",
      "nbconvert_exporter": "python",
      "pygments_lexer": "ipython3",
      "version": "3.9.7"
    },
    "colab": {
      "name": "exercise3.ipynb",
      "provenance": []
    }
  },
  "nbformat": 4,
  "nbformat_minor": 5
}