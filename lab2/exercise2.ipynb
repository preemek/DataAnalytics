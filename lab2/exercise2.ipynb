{
  "cells": [
    {
      "cell_type": "code",
      "execution_count": null,
      "id": "5267bf01",
      "metadata": {
        "id": "5267bf01"
      },
      "outputs": [],
      "source": [
        "from cmdstanpy import CmdStanModel\n",
        "import pandas as pd\n",
        "import arviz as az \n",
        "import numpy as np\n",
        "import matplotlib.pyplot as plt\n",
        "import scipy.stats as stats"
      ]
    },
    {
      "cell_type": "code",
      "execution_count": null,
      "id": "65b41884",
      "metadata": {
        "id": "65b41884",
        "outputId": "95c0604c-3870-4f66-e85f-7239b5f74471",
        "colab": {
          "referenced_widgets": [
            "00cf6dfc0d4d4ab390f82b536d615ed2",
            "ae82fd0153db47a0bbc08eb996eb3884",
            "6657e2a7ad014de69a4268d368a20ef5",
            "e6c22185c13344e294ee15aef96b8302"
          ]
        }
      },
      "outputs": [
        {
          "name": "stderr",
          "output_type": "stream",
          "text": [
            "INFO:cmdstanpy:found newer exe file, not recompiling\n",
            "INFO:cmdstanpy:CmdStan start processing\n"
          ]
        },
        {
          "data": {
            "application/vnd.jupyter.widget-view+json": {
              "model_id": "00cf6dfc0d4d4ab390f82b536d615ed2",
              "version_major": 2,
              "version_minor": 0
            },
            "text/plain": [
              "chain 1 |          | 00:00 Status"
            ]
          },
          "metadata": {},
          "output_type": "display_data"
        },
        {
          "data": {
            "application/vnd.jupyter.widget-view+json": {
              "model_id": "ae82fd0153db47a0bbc08eb996eb3884",
              "version_major": 2,
              "version_minor": 0
            },
            "text/plain": [
              "chain 2 |          | 00:00 Status"
            ]
          },
          "metadata": {},
          "output_type": "display_data"
        },
        {
          "data": {
            "application/vnd.jupyter.widget-view+json": {
              "model_id": "6657e2a7ad014de69a4268d368a20ef5",
              "version_major": 2,
              "version_minor": 0
            },
            "text/plain": [
              "chain 3 |          | 00:00 Status"
            ]
          },
          "metadata": {},
          "output_type": "display_data"
        },
        {
          "data": {
            "application/vnd.jupyter.widget-view+json": {
              "model_id": "e6c22185c13344e294ee15aef96b8302",
              "version_major": 2,
              "version_minor": 0
            },
            "text/plain": [
              "chain 4 |          | 00:00 Status"
            ]
          },
          "metadata": {},
          "output_type": "display_data"
        },
        {
          "name": "stdout",
          "output_type": "stream",
          "text": [
            "                                                                                                                                                                                                                                                                                                                                                                                                                                                                                                "
          ]
        },
        {
          "name": "stderr",
          "output_type": "stream",
          "text": [
            "INFO:cmdstanpy:CmdStan done processing.\n"
          ]
        },
        {
          "name": "stdout",
          "output_type": "stream",
          "text": [
            "\n"
          ]
        }
      ],
      "source": [
        "bern1 = CmdStanModel(stan_file='code_2.stan')\n",
        "samp_bern1 = bern1.sample(data={'N':2, 'y':[0,1]})"
      ]
    },
    {
      "cell_type": "code",
      "execution_count": null,
      "id": "af9eab57",
      "metadata": {
        "id": "af9eab57",
        "outputId": "376439ac-539a-4698-d812-ecbd82fa7730",
        "colab": {
          "referenced_widgets": [
            "0dbc8496be644cd4b61b9bcd32cd84cc",
            "f5dc36579f6e4eebbedf3d719e919799",
            "2356364cfcf7483386e27c1bd037a702",
            "4fc2ed4246ed443bbdf667b9c04aabeb"
          ]
        }
      },
      "outputs": [
        {
          "name": "stderr",
          "output_type": "stream",
          "text": [
            "INFO:cmdstanpy:found newer exe file, not recompiling\n",
            "INFO:cmdstanpy:CmdStan start processing\n"
          ]
        },
        {
          "data": {
            "application/vnd.jupyter.widget-view+json": {
              "model_id": "0dbc8496be644cd4b61b9bcd32cd84cc",
              "version_major": 2,
              "version_minor": 0
            },
            "text/plain": [
              "chain 1 |          | 00:00 Status"
            ]
          },
          "metadata": {},
          "output_type": "display_data"
        },
        {
          "data": {
            "application/vnd.jupyter.widget-view+json": {
              "model_id": "f5dc36579f6e4eebbedf3d719e919799",
              "version_major": 2,
              "version_minor": 0
            },
            "text/plain": [
              "chain 2 |          | 00:00 Status"
            ]
          },
          "metadata": {},
          "output_type": "display_data"
        },
        {
          "data": {
            "application/vnd.jupyter.widget-view+json": {
              "model_id": "2356364cfcf7483386e27c1bd037a702",
              "version_major": 2,
              "version_minor": 0
            },
            "text/plain": [
              "chain 3 |          | 00:00 Status"
            ]
          },
          "metadata": {},
          "output_type": "display_data"
        },
        {
          "data": {
            "application/vnd.jupyter.widget-view+json": {
              "model_id": "4fc2ed4246ed443bbdf667b9c04aabeb",
              "version_major": 2,
              "version_minor": 0
            },
            "text/plain": [
              "chain 4 |          | 00:00 Status"
            ]
          },
          "metadata": {},
          "output_type": "display_data"
        },
        {
          "name": "stdout",
          "output_type": "stream",
          "text": [
            "                                                                                                                                                                                                                                                                                                                                                                                                                                                                                                "
          ]
        },
        {
          "name": "stderr",
          "output_type": "stream",
          "text": [
            "INFO:cmdstanpy:CmdStan done processing.\n"
          ]
        },
        {
          "name": "stdout",
          "output_type": "stream",
          "text": [
            "\n"
          ]
        }
      ],
      "source": [
        "bern2 = CmdStanModel(stan_file='code_3.stan')\n",
        "samp_bern2 = bern2.sample(data={'N':2, 'y':[0,1]})"
      ]
    },
    {
      "cell_type": "code",
      "execution_count": null,
      "id": "fcd31262",
      "metadata": {
        "id": "fcd31262",
        "outputId": "bdac9828-0c12-4bfd-c8a8-ae607474ba85"
      },
      "outputs": [
        {
          "data": {
            "text/html": [
              "<div>\n",
              "<style scoped>\n",
              "    .dataframe tbody tr th:only-of-type {\n",
              "        vertical-align: middle;\n",
              "    }\n",
              "\n",
              "    .dataframe tbody tr th {\n",
              "        vertical-align: top;\n",
              "    }\n",
              "\n",
              "    .dataframe thead th {\n",
              "        text-align: right;\n",
              "    }\n",
              "</style>\n",
              "<table border=\"1\" class=\"dataframe\">\n",
              "  <thead>\n",
              "    <tr style=\"text-align: right;\">\n",
              "      <th></th>\n",
              "      <th>theta1</th>\n",
              "      <th>theta2</th>\n",
              "    </tr>\n",
              "  </thead>\n",
              "  <tbody>\n",
              "    <tr>\n",
              "      <th>0</th>\n",
              "      <td>0.360674</td>\n",
              "      <td>0.484300</td>\n",
              "    </tr>\n",
              "    <tr>\n",
              "      <th>1</th>\n",
              "      <td>0.441073</td>\n",
              "      <td>0.484300</td>\n",
              "    </tr>\n",
              "    <tr>\n",
              "      <th>2</th>\n",
              "      <td>0.209720</td>\n",
              "      <td>0.467543</td>\n",
              "    </tr>\n",
              "    <tr>\n",
              "      <th>3</th>\n",
              "      <td>0.537918</td>\n",
              "      <td>0.420341</td>\n",
              "    </tr>\n",
              "    <tr>\n",
              "      <th>4</th>\n",
              "      <td>0.130731</td>\n",
              "      <td>0.329349</td>\n",
              "    </tr>\n",
              "    <tr>\n",
              "      <th>...</th>\n",
              "      <td>...</td>\n",
              "      <td>...</td>\n",
              "    </tr>\n",
              "    <tr>\n",
              "      <th>3995</th>\n",
              "      <td>0.835426</td>\n",
              "      <td>0.825693</td>\n",
              "    </tr>\n",
              "    <tr>\n",
              "      <th>3996</th>\n",
              "      <td>0.422484</td>\n",
              "      <td>0.447617</td>\n",
              "    </tr>\n",
              "    <tr>\n",
              "      <th>3997</th>\n",
              "      <td>0.546573</td>\n",
              "      <td>0.304292</td>\n",
              "    </tr>\n",
              "    <tr>\n",
              "      <th>3998</th>\n",
              "      <td>0.564101</td>\n",
              "      <td>0.313408</td>\n",
              "    </tr>\n",
              "    <tr>\n",
              "      <th>3999</th>\n",
              "      <td>0.360043</td>\n",
              "      <td>0.487610</td>\n",
              "    </tr>\n",
              "  </tbody>\n",
              "</table>\n",
              "<p>4000 rows × 2 columns</p>\n",
              "</div>"
            ],
            "text/plain": [
              "        theta1    theta2\n",
              "0     0.360674  0.484300\n",
              "1     0.441073  0.484300\n",
              "2     0.209720  0.467543\n",
              "3     0.537918  0.420341\n",
              "4     0.130731  0.329349\n",
              "...        ...       ...\n",
              "3995  0.835426  0.825693\n",
              "3996  0.422484  0.447617\n",
              "3997  0.546573  0.304292\n",
              "3998  0.564101  0.313408\n",
              "3999  0.360043  0.487610\n",
              "\n",
              "[4000 rows x 2 columns]"
            ]
          },
          "execution_count": 8,
          "metadata": {},
          "output_type": "execute_result"
        }
      ],
      "source": [
        "theta1 = samp_bern1.stan_variable('theta')\n",
        "theta2 = samp_bern2.stan_variable('theta')\n",
        "theta = {\"theta1\": theta1, \"theta2\": theta2}\n",
        "\n",
        "df = pd.DataFrame(theta)\n",
        "df"
      ]
    },
    {
      "cell_type": "code",
      "execution_count": null,
      "id": "6baea240",
      "metadata": {
        "id": "6baea240",
        "outputId": "8e88371a-24e7-4594-f3f2-b70d512fd0ce"
      },
      "outputs": [
        {
          "data": {
            "text/plain": [
              "array([[<AxesSubplot:title={'center':'theta2'}>]], dtype=object)"
            ]
          },
          "execution_count": 16,
          "metadata": {},
          "output_type": "execute_result"
        },
        {
          "data": {
            "image/png": "[encoded data removed]",
            "text/plain": [
              "<Figure size 432x288 with 1 Axes>"
            ]
          },
          "metadata": {
            "needs_background": "light"
          },
          "output_type": "display_data"
        },
        {
          "data": {
            "image/png": "[encoded data removed]",
            "text/plain": [
              "<Figure size 432x288 with 1 Axes>"
            ]
          },
          "metadata": {
            "needs_background": "light"
          },
          "output_type": "display_data"
        }
      ],
      "source": [
        "df.hist('theta1', bins = 20)\n",
        "df.hist('theta2', bins = 20)"
      ]
    }
  ],
  "metadata": {
    "kernelspec": {
      "display_name": "Python 3 (ipykernel)",
      "language": "python",
      "name": "python3"
    },
    "language_info": {
      "codemirror_mode": {
        "name": "ipython",
        "version": 3
      },
      "file_extension": ".py",
      "mimetype": "text/x-python",
      "name": "python",
      "nbconvert_exporter": "python",
      "pygments_lexer": "ipython3",
      "version": "3.9.7"
    },
    "colab": {
      "name": "exercise2.ipynb",
      "provenance": []
    }
  },
  "nbformat": 4,
  "nbformat_minor": 5
}