{
  "cells": [
    {
      "cell_type": "code",
      "execution_count": null,
      "metadata": {
        "id": "FuxLQeVZw8aY"
      },
      "outputs": [],
      "source": [
        "#Przemysław Myśliwiec\n",
        "\n",
        "import cmdstanpy\n",
        "import matplotlib.pyplot as plt\n"
      ]
    },
    {
      "cell_type": "code",
      "execution_count": null,
      "metadata": {
        "id": "Q97C9HZLw8aZ",
        "outputId": "4ebc1666-d86b-4e94-ec69-d9a9e77f46b8"
      },
      "outputs": [
        {
          "name": "stderr",
          "output_type": "stream",
          "text": [
            "INFO:cmdstanpy:found newer exe file, not recompiling\n"
          ]
        }
      ],
      "source": [
        "dataset = {\n",
        "    \"y\": [1, 0, 0, 1, 1, 0, 1, 1, 0, 1, 1, 0, 1, 1],\n",
        "    \"N\": 14\n",
        "}\n",
        "model = cmdstanpy.CmdStanModel(stan_file='bern_1.stan')"
      ]
    },
    {
      "cell_type": "code",
      "execution_count": null,
      "metadata": {
        "id": "7KJ_FhFEw8ab",
        "outputId": "4dc6982f-9c1d-4c5d-cf75-fff34831ed47"
      },
      "outputs": [
        {
          "name": "stderr",
          "output_type": "stream",
          "text": [
            "INFO:cmdstanpy:CmdStan start processing\n",
            "chain 1 |\u001b[33m          \u001b[0m| 00:00 Status\n",
            "\u001b[A\n",
            "\n",
            "chain 1 |\u001b[34m██████████\u001b[0m| 00:00 Sampling completed                       \n",
            "chain 2 |\u001b[34m██████████\u001b[0m| 00:00 Sampling completed\n",
            "\n",
            "chain 3 |\u001b[34m██████████\u001b[0m| 00:00 Sampling completed\n",
            "\n",
            "\n",
            "chain 4 |\u001b[34m██████████\u001b[0m| 00:00 Sampling completed"
          ]
        },
        {
          "name": "stdout",
          "output_type": "stream",
          "text": [
            "                                                                                                                                                                                                                                                                                                                                "
          ]
        },
        {
          "name": "stderr",
          "output_type": "stream",
          "text": [
            "\n",
            "INFO:cmdstanpy:CmdStan done processing.\n"
          ]
        },
        {
          "name": "stdout",
          "output_type": "stream",
          "text": [
            "\n"
          ]
        }
      ],
      "source": [
        "model_fit = model.sample(data=dataset, output_dir='.')"
      ]
    },
    {
      "cell_type": "code",
      "execution_count": null,
      "metadata": {
        "id": "5mAuymIEw8ab",
        "outputId": "91e992ba-4e5f-43c8-f93f-a0c2b9e77455"
      },
      "outputs": [
        {
          "data": {
            "image/png": "[encoded data removed]",
            "text/plain": [
              "<Figure size 432x288 with 1 Axes>"
            ]
          },
          "metadata": {
            "needs_background": "light"
          },
          "output_type": "display_data"
        }
      ],
      "source": [
        "theta = model_fit.stan_variable('theta')\n",
        "plt.hist(theta)\n",
        "plt.title('Theta histogram')\n",
        "plt.show()"
      ]
    },
    {
      "cell_type": "code",
      "execution_count": null,
      "metadata": {
        "id": "P8YfNv8cw8ac",
        "outputId": "fed8a400-ca36-4c85-920f-b8e477d8b04a"
      },
      "outputs": [
        {
          "data": {
            "text/html": [
              "<div>\n",
              "<style scoped>\n",
              "    .dataframe tbody tr th:only-of-type {\n",
              "        vertical-align: middle;\n",
              "    }\n",
              "\n",
              "    .dataframe tbody tr th {\n",
              "        vertical-align: top;\n",
              "    }\n",
              "\n",
              "    .dataframe thead th {\n",
              "        text-align: right;\n",
              "    }\n",
              "</style>\n",
              "<table border=\"1\" class=\"dataframe\">\n",
              "  <thead>\n",
              "    <tr style=\"text-align: right;\">\n",
              "      <th></th>\n",
              "      <th>Mean</th>\n",
              "      <th>MCSE</th>\n",
              "      <th>StdDev</th>\n",
              "      <th>5%</th>\n",
              "      <th>50%</th>\n",
              "      <th>95%</th>\n",
              "      <th>N_Eff</th>\n",
              "      <th>N_Eff/s</th>\n",
              "      <th>R_hat</th>\n",
              "    </tr>\n",
              "    <tr>\n",
              "      <th>name</th>\n",
              "      <th></th>\n",
              "      <th></th>\n",
              "      <th></th>\n",
              "      <th></th>\n",
              "      <th></th>\n",
              "      <th></th>\n",
              "      <th></th>\n",
              "      <th></th>\n",
              "      <th></th>\n",
              "    </tr>\n",
              "  </thead>\n",
              "  <tbody>\n",
              "    <tr>\n",
              "      <th>lp__</th>\n",
              "      <td>-11.00</td>\n",
              "      <td>0.0190</td>\n",
              "      <td>0.79</td>\n",
              "      <td>-13.00</td>\n",
              "      <td>-11.00</td>\n",
              "      <td>-11.00</td>\n",
              "      <td>1700.0</td>\n",
              "      <td>8200.0</td>\n",
              "      <td>1.0</td>\n",
              "    </tr>\n",
              "    <tr>\n",
              "      <th>theta</th>\n",
              "      <td>0.62</td>\n",
              "      <td>0.0031</td>\n",
              "      <td>0.12</td>\n",
              "      <td>0.42</td>\n",
              "      <td>0.63</td>\n",
              "      <td>0.81</td>\n",
              "      <td>1500.0</td>\n",
              "      <td>7000.0</td>\n",
              "      <td>1.0</td>\n",
              "    </tr>\n",
              "  </tbody>\n",
              "</table>\n",
              "</div>"
            ],
            "text/plain": [
              "        Mean    MCSE  StdDev     5%    50%    95%   N_Eff  N_Eff/s  R_hat\n",
              "name                                                                     \n",
              "lp__  -11.00  0.0190    0.79 -13.00 -11.00 -11.00  1700.0   8200.0    1.0\n",
              "theta   0.62  0.0031    0.12   0.42   0.63   0.81  1500.0   7000.0    1.0"
            ]
          },
          "execution_count": 27,
          "metadata": {},
          "output_type": "execute_result"
        }
      ],
      "source": [
        "model_fit.summary()"
      ]
    },
    {
      "cell_type": "code",
      "execution_count": null,
      "metadata": {
        "id": "n9nPAJt4w8ac",
        "outputId": "82c58dee-01d6-46a9-a5ae-a8a40fd107ed"
      },
      "outputs": [
        {
          "data": {
            "image/png": "[encoded data removed]",
            "text/plain": [
              "<Figure size 720x360 with 1 Axes>"
            ]
          },
          "metadata": {
            "needs_background": "light"
          },
          "output_type": "display_data"
        }
      ],
      "source": [
        "theta = model_fit.stan_variable('theta')\n",
        "\n",
        "plt.figure(figsize=(10,5))\n",
        "plt.hist(theta, bins=20)\n",
        "plt.title('Theta histogram')\n",
        "\n",
        "plt.axvline(x=0.42, color='k', label='5% quantil')\n",
        "plt.axvline(x=0.62, color='r', label='Mean')\n",
        "plt.axvline(x=0.63, color='y', label='Median')\n",
        "plt.axvline(x=0.81, color='m', label='95% quantil')\n",
        "\n",
        "plt.legend()\n",
        "plt.show()"
      ]
    }
  ],
  "metadata": {
    "interpreter": {
      "hash": "4c73986fee8082bc4a691e5d68216c80804a16ab427e4492e466f381218db108"
    },
    "kernelspec": {
      "display_name": "Python 3.9.0 ('data_env')",
      "language": "python",
      "name": "python3"
    },
    "language_info": {
      "codemirror_mode": {
        "name": "ipython",
        "version": 3
      },
      "file_extension": ".py",
      "mimetype": "text/x-python",
      "name": "python",
      "nbconvert_exporter": "python",
      "pygments_lexer": "ipython3",
      "version": "3.9.0"
    },
    "orig_nbformat": 4,
    "colab": {
      "name": "zad2.ipynb",
      "provenance": []
    }
  },
  "nbformat": 4,
  "nbformat_minor": 0
}