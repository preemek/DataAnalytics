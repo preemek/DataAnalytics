{
  "cells": [
    {
      "cell_type": "code",
      "execution_count": null,
      "metadata": {
        "id": "s2MiYVWMl8lA"
      },
      "outputs": [],
      "source": [
        "from cmdstanpy import CmdStanModel\n",
        "\n",
        "\n",
        "import arviz as az\n",
        "import numpy as np\n",
        "import scipy.stats as stats\n",
        "\n",
        "import matplotlib.pyplot as plt\n",
        "import pandas as pd"
      ]
    },
    {
      "cell_type": "markdown",
      "metadata": {
        "id": "ndJpx6fvl8lD"
      },
      "source": [
        "We will generate fake data, that will simulate dataset of 100 outputs from 200 dimensional linear model along with appropriate predictors. Our goal will be estimation of the parameters of the model."
      ]
    },
    {
      "cell_type": "code",
      "execution_count": null,
      "metadata": {
        "id": "IMBp6izdl8lE"
      },
      "outputs": [],
      "source": [
        "data_genetator = CmdStanModel(stan_file = 'generate_data.stan')"
      ]
    },
    {
      "cell_type": "code",
      "execution_count": null,
      "metadata": {
        "id": "tDzi_hPrl8lF",
        "outputId": "e6e26e0a-5fb3-4f2c-9270-a01c0ccf8860"
      },
      "outputs": [
        {
          "name": "stderr",
          "output_type": "stream",
          "text": [
            "INFO:cmdstanpy:CmdStan start processing\n"
          ]
        },
        {
          "name": "stdout",
          "output_type": "stream",
          "text": [
            "19990509\n"
          ]
        },
        {
          "name": "stderr",
          "output_type": "stream",
          "text": [
            "chain 1 |\u001b[34m██████████\u001b[0m| 00:00 Sampling completed"
          ]
        },
        {
          "name": "stdout",
          "output_type": "stream",
          "text": [
            "                                                                                "
          ]
        },
        {
          "name": "stderr",
          "output_type": "stream",
          "text": [
            "\n",
            "INFO:cmdstanpy:CmdStan done processing.\n"
          ]
        },
        {
          "name": "stdout",
          "output_type": "stream",
          "text": [
            "\n"
          ]
        }
      ],
      "source": [
        "I= 7\n",
        "N= 9\n",
        "DoB= 19990809\n",
        "seed=int(DoB*1e4+100*I+N)\n",
        "print(seed)\n",
        "generated_data = data_genetator.sample(chains=1, iter_sampling=1, iter_warmup=0, fixed_param=True,seed=seed)"
      ]
    },
    {
      "cell_type": "markdown",
      "metadata": {
        "id": "8FONu6t4l8lG"
      },
      "source": [
        "### Coefficients of linear model\n",
        "Only few of beta coefficients are significantly greater than 0."
      ]
    },
    {
      "cell_type": "code",
      "execution_count": null,
      "metadata": {
        "id": "XGfMgWIDl8lG",
        "outputId": "264acfe7-4fcd-4716-9d05-31cd8d4cea06"
      },
      "outputs": [
        {
          "data": {
            "text/plain": [
              "<matplotlib.patches.StepPatch at 0x27d5a294a00>"
            ]
          },
          "execution_count": 4,
          "metadata": {},
          "output_type": "execute_result"
        },
        {
          "data": {
            "image/png": "[encoded data removed]",
            "text/plain": [
              "<Figure size 432x288 with 1 Axes>"
            ]
          },
          "metadata": {
            "needs_background": "light"
          },
          "output_type": "display_data"
        }
      ],
      "source": [
        "beta_s = generated_data.stan_variable('beta')\n",
        "plt.stairs(generated_data.stan_variable('beta')[0])"
      ]
    },
    {
      "cell_type": "markdown",
      "metadata": {
        "id": "40xeF5MYl8lH"
      },
      "source": [
        "This is an issue called sparsity. We will try to exploit that when infering the results via changing the prior structure. "
      ]
    },
    {
      "cell_type": "markdown",
      "metadata": {
        "id": "Z2zSgCHUl8lH"
      },
      "source": [
        "### Model 1 - uniform prior for beta"
      ]
    },
    {
      "cell_type": "code",
      "execution_count": null,
      "metadata": {
        "id": "fEYxx3D5l8lI",
        "outputId": "90830cf9-4173-43c5-f3e2-d83118048fe9"
      },
      "outputs": [
        {
          "name": "stderr",
          "output_type": "stream",
          "text": [
            "INFO:cmdstanpy:found newer exe file, not recompiling\n"
          ]
        }
      ],
      "source": [
        "model_uniform = CmdStanModel(stan_file = 'model1.stan')"
      ]
    },
    {
      "cell_type": "code",
      "execution_count": null,
      "metadata": {
        "id": "ERUJmZCkl8lI"
      },
      "outputs": [],
      "source": [
        "data_for_inference = {'N':100,\n",
        "                      'M':200,\n",
        "                      'X':generated_data.stan_variable('X')[0],\n",
        "                      'y':generated_data.stan_variable('y')[0]\n",
        "                      }"
      ]
    },
    {
      "cell_type": "code",
      "execution_count": null,
      "metadata": {
        "id": "gejptcRnl8lJ",
        "outputId": "53e64a88-78b1-444f-f278-d00cc8dbcd0f"
      },
      "outputs": [
        {
          "name": "stderr",
          "output_type": "stream",
          "text": [
            "INFO:cmdstanpy:CmdStan start processing\n",
            "chain 1 |\u001b[33m          \u001b[0m| 00:00 Status\n",
            "\u001b[A\n",
            "\n",
            "\u001b[A\u001b[A\n",
            "\n",
            "chain 1 |\u001b[33m▉         \u001b[0m| 00:03 Iteration:    1 / 2000 [  0%]  (Warmup)\n",
            "\u001b[A\n",
            "\n",
            "chain 1 |\u001b[33m█▎        \u001b[0m| 00:08 Iteration:  100 / 2000 [  5%]  (Warmup)\n",
            "\u001b[A\n",
            "\n",
            "chain 1 |\u001b[33m█▊        \u001b[0m| 00:13 Iteration:  200 / 2000 [ 10%]  (Warmup)\n",
            "\u001b[A\n",
            "\n",
            "\u001b[A\u001b[A\n",
            "chain 1 |\u001b[33m██▎       \u001b[0m| 00:19 Iteration:  300 / 2000 [ 15%]  (Warmup)\n",
            "\n",
            "\u001b[A\u001b[A\n",
            "chain 1 |\u001b[33m██▋       \u001b[0m| 00:25 Iteration:  400 / 2000 [ 20%]  (Warmup)\n",
            "\n",
            "chain 1 |\u001b[33m███▏      \u001b[0m| 00:31 Iteration:  500 / 2000 [ 25%]  (Warmup)\n",
            "\u001b[A\n",
            "\n",
            "chain 1 |\u001b[33m███▋      \u001b[0m| 00:38 Iteration:  600 / 2000 [ 30%]  (Warmup)\n",
            "\u001b[A\n",
            "\n",
            "chain 1 |\u001b[33m████      \u001b[0m| 00:44 Iteration:  700 / 2000 [ 35%]  (Warmup)\n",
            "\u001b[A\n",
            "\n",
            "chain 1 |\u001b[33m████▌     \u001b[0m| 00:49 Iteration:  800 / 2000 [ 40%]  (Warmup)\n",
            "\u001b[A\n",
            "\n",
            "chain 1 |\u001b[33m█████     \u001b[0m| 00:55 Iteration:  900 / 2000 [ 45%]  (Warmup)\n",
            "\u001b[A\n",
            "\n",
            "chain 1 |\u001b[34m█████▉    \u001b[0m| 01:01 Iteration: 1001 / 2000 [ 50%]  (Sampling)\n",
            "\u001b[A\n",
            "\n",
            "chain 1 |\u001b[34m██████▎   \u001b[0m| 01:07 Iteration: 1100 / 2000 [ 55%]  (Sampling)\n",
            "\u001b[A\n",
            "\n",
            "chain 1 |\u001b[34m██████▊   \u001b[0m| 01:14 Iteration: 1200 / 2000 [ 60%]  (Sampling)\n",
            "\u001b[A\n",
            "\u001b[A\n",
            "\n",
            "chain 1 |\u001b[34m███████▎  \u001b[0m| 01:20 Iteration: 1300 / 2000 [ 65%]  (Sampling)\n",
            "\u001b[A\n",
            "\n",
            "chain 1 |\u001b[34m███████▋  \u001b[0m| 01:26 Iteration: 1400 / 2000 [ 70%]  (Sampling)\n",
            "\u001b[A\n",
            "\n",
            "chain 1 |\u001b[34m████████▏ \u001b[0m| 01:31 Iteration: 1500 / 2000 [ 75%]  (Sampling)\n",
            "\u001b[A\n",
            "\n",
            "chain 1 |\u001b[34m████████▋ \u001b[0m| 01:37 Iteration: 1600 / 2000 [ 80%]  (Sampling)\n",
            "\u001b[A\n",
            "\n",
            "chain 1 |\u001b[34m█████████ \u001b[0m| 01:43 Iteration: 1700 / 2000 [ 85%]  (Sampling)\n",
            "\u001b[A\n",
            "\n",
            "chain 1 |\u001b[34m█████████▌\u001b[0m| 01:49 Iteration: 1800 / 2000 [ 90%]  (Sampling)\n",
            "\u001b[A\n",
            "\n",
            "chain 1 |\u001b[34m██████████\u001b[0m| 01:54 Sampling completed                       \n",
            "chain 2 |\u001b[34m██████████\u001b[0m| 01:54 Sampling completed                       \n",
            "chain 3 |\u001b[34m██████████\u001b[0m| 01:54 Sampling completed                       \n",
            "chain 4 |\u001b[34m██████████\u001b[0m| 01:54 Sampling completed                       "
          ]
        },
        {
          "name": "stdout",
          "output_type": "stream",
          "text": [
            "                                                                                                                                                                                                                                                                                                                                "
          ]
        },
        {
          "name": "stderr",
          "output_type": "stream",
          "text": [
            "\n",
            "INFO:cmdstanpy:CmdStan done processing.\n"
          ]
        },
        {
          "name": "stdout",
          "output_type": "stream",
          "text": [
            "\n"
          ]
        }
      ],
      "source": [
        "fit_unf = model_uniform.sample(data=data_for_inference,seed=seed)"
      ]
    },
    {
      "cell_type": "code",
      "execution_count": null,
      "metadata": {
        "id": "vxe4vyyel8lJ"
      },
      "outputs": [],
      "source": [
        "print(fit_unf.diagnose())"
      ]
    },
    {
      "cell_type": "markdown",
      "metadata": {
        "id": "l0kvahWCl8lJ"
      },
      "source": [
        "#### Task 1. Evaluating model\n",
        "\n",
        "1. Analyse the diagnosis of model. What sampling issues occured?\n",
        "2. For each fitted beta coefficient plot maximum, minimum, and 5, 25, 50, 75, 95 quantiles of simulated weight (all in the same plot). Compare with true values of beta. \n",
        "3. Substract true values from fitted betas and make the same plot (residues)"
      ]
    },
    {
      "cell_type": "markdown",
      "metadata": {
        "id": "fIV5vcLYl8lK"
      },
      "source": [
        "1. transitions hit the maximum treedepth limit of 10"
      ]
    },
    {
      "cell_type": "code",
      "execution_count": null,
      "metadata": {
        "id": "_8__z81Ul8lK"
      },
      "outputs": [],
      "source": [
        "## 2\n",
        "fit_unf.summary()\n",
        "\n",
        "beta_5 = fit_unf.summary()['5%'].loc['beta[1]':'beta[200]']\n",
        "beta_50 = fit_unf.summary()['50%'].loc['beta[1]':'beta[200]']\n",
        "beta_95 = fit_unf.summary()['95%'].loc['beta[1]':'beta[200]']"
      ]
    },
    {
      "cell_type": "code",
      "execution_count": null,
      "metadata": {
        "id": "EIQl4YETl8lK"
      },
      "outputs": [],
      "source": [
        "beta_25 = fit_unf.draws_pd().describe().loc['25%']['beta[1]':'beta[200]']\n",
        "beta_75 = fit_unf.draws_pd().describe().loc['75%']['beta[1]':'beta[200]']\n",
        "beta_min = fit_unf.draws_pd().describe().loc['min']['beta[1]':'beta[200]']\n",
        "beta_max = fit_unf.draws_pd().describe().loc['max']['beta[1]':'beta[200]']"
      ]
    },
    {
      "cell_type": "code",
      "execution_count": null,
      "metadata": {
        "id": "_sfcczlkl8lL",
        "outputId": "3ecc62a6-d6a4-4981-91a8-ebdd991c74b6"
      },
      "outputs": [
        {
          "data": {
            "image/png": "[encoded data removed]",
            "text/plain": [
              "<Figure size 1440x720 with 8 Axes>"
            ]
          },
          "metadata": {
            "needs_background": "light"
          },
          "output_type": "display_data"
        }
      ],
      "source": [
        "fig, axs = plt.subplots(2, 4, figsize=(20, 10))\n",
        "\n",
        "axs[0][0].hist(beta_min)\n",
        "axs[0][0].set_title(\"Beta min\")\n",
        "\n",
        "axs[0][1].hist(beta_5)\n",
        "axs[0][1].set_title(\"Beta 5%\")\n",
        "\n",
        "axs[0][2].hist(beta_25)\n",
        "axs[0][2].set_title(\"Beta 25%\")\n",
        "\n",
        "axs[0][3].hist(beta_50)\n",
        "axs[0][3].set_title(\"Beta 50%\")\n",
        "\n",
        "axs[1][0].hist(beta_75)\n",
        "axs[1][0].set_title(\"Beta 75%\")\n",
        "\n",
        "axs[1][1].hist(beta_95)\n",
        "axs[1][1].set_title(\"Beta 95%\")\n",
        "\n",
        "axs[1][2].hist(beta_max)\n",
        "axs[1][2].set_title(\"Beta max\")\n",
        "\n",
        "plt.show()"
      ]
    },
    {
      "cell_type": "markdown",
      "metadata": {
        "id": "WmoG_RkHl8lL"
      },
      "source": [
        "### Model 2 - Narrow weakly informative prior.\n",
        "We try to improve sampling by regularizing the search space with normal priors. This is prior used in ridge regression (but here is the bayesian context)"
      ]
    },
    {
      "cell_type": "code",
      "execution_count": null,
      "metadata": {
        "id": "bRURozgVl8lL",
        "outputId": "1db771d4-ae98-4414-8c1a-eb945270ef1c"
      },
      "outputs": [
        {
          "name": "stderr",
          "output_type": "stream",
          "text": [
            "INFO:cmdstanpy:found newer exe file, not recompiling\n"
          ]
        }
      ],
      "source": [
        "model_reg = CmdStanModel(stan_file = 'model2.stan')"
      ]
    },
    {
      "cell_type": "code",
      "execution_count": null,
      "metadata": {
        "id": "uNj6NoDrl8lL",
        "outputId": "70aeaa9b-a27e-41ee-bb92-677a86f661bb"
      },
      "outputs": [
        {
          "name": "stderr",
          "output_type": "stream",
          "text": [
            "INFO:cmdstanpy:CmdStan start processing\n",
            "chain 1 |\u001b[33m          \u001b[0m| 00:00 Status\n",
            "\u001b[A\n",
            "\n",
            "chain 1 |\u001b[33m▉         \u001b[0m| 00:00 Iteration:    1 / 2000 [  0%]  (Warmup)\n",
            "\n",
            "\u001b[A\u001b[A\n",
            "chain 1 |\u001b[33m█▎        \u001b[0m| 00:00 Iteration:  100 / 2000 [  5%]  (Warmup)\n",
            "\n",
            "\u001b[A\u001b[A\n",
            "\u001b[A\n",
            "\n",
            "chain 1 |\u001b[33m██▎       \u001b[0m| 00:00 Iteration:  300 / 2000 [ 15%]  (Warmup)\n",
            "\u001b[A\n",
            "\n",
            "chain 1 |\u001b[33m██▋       \u001b[0m| 00:00 Iteration:  400 / 2000 [ 20%]  (Warmup)\n",
            "\u001b[A\n",
            "\n",
            "\u001b[A\u001b[A\n",
            "\u001b[A\n",
            "\n",
            "chain 1 |\u001b[33m███▋      \u001b[0m| 00:01 Iteration:  600 / 2000 [ 30%]  (Warmup)\n",
            "\u001b[A\n",
            "\n",
            "chain 1 |\u001b[33m████      \u001b[0m| 00:01 Iteration:  700 / 2000 [ 35%]  (Warmup)\n",
            "\u001b[A\n",
            "\n",
            "chain 1 |\u001b[33m████▌     \u001b[0m| 00:01 Iteration:  800 / 2000 [ 40%]  (Warmup)\n",
            "chain 1 |\u001b[33m█████     \u001b[0m| 00:01 Iteration:  900 / 2000 [ 45%]  (Warmup)\n",
            "\n",
            "chain 1 |\u001b[34m█████▉    \u001b[0m| 00:01 Iteration: 1001 / 2000 [ 50%]  (Sampling)\n",
            "\u001b[A\n",
            "\n",
            "\u001b[A\u001b[A\n",
            "\u001b[A\n",
            "\n",
            "\u001b[A\u001b[A\n",
            "chain 1 |\u001b[34m██████▊   \u001b[0m| 00:01 Iteration: 1200 / 2000 [ 60%]  (Sampling)\n",
            "\n",
            "\u001b[A\u001b[A\n",
            "chain 1 |\u001b[34m███████▎  \u001b[0m| 00:02 Iteration: 1300 / 2000 [ 65%]  (Sampling)\n",
            "\n",
            "\u001b[A\u001b[A\n",
            "chain 1 |\u001b[34m███████▋  \u001b[0m| 00:02 Iteration: 1400 / 2000 [ 70%]  (Sampling)\n",
            "\n",
            "\u001b[A\u001b[A\n",
            "chain 1 |\u001b[34m████████▏ \u001b[0m| 00:02 Iteration: 1500 / 2000 [ 75%]  (Sampling)\n",
            "\n",
            "\u001b[A\u001b[A\n",
            "chain 1 |\u001b[34m████████▋ \u001b[0m| 00:02 Iteration: 1600 / 2000 [ 80%]  (Sampling)\n",
            "\n",
            "\u001b[A\u001b[A\n",
            "chain 1 |\u001b[34m█████████ \u001b[0m| 00:03 Iteration: 1700 / 2000 [ 85%]  (Sampling)\n",
            "\n",
            "\u001b[A\u001b[A\n",
            "chain 1 |\u001b[34m█████████▌\u001b[0m| 00:03 Iteration: 1800 / 2000 [ 90%]  (Sampling)\n",
            "\n",
            "\u001b[A\u001b[A\n",
            "chain 1 |\u001b[34m██████████\u001b[0m| 00:03 Iteration: 1900 / 2000 [ 95%]  (Sampling)\n",
            "\u001b[A\n",
            "\n",
            "chain 1 |\u001b[34m██████████\u001b[0m| 00:03 Sampling completed                       \n",
            "chain 2 |\u001b[34m██████████\u001b[0m| 00:03 Sampling completed                       \n",
            "chain 3 |\u001b[34m██████████\u001b[0m| 00:03 Sampling completed                       \n",
            "chain 4 |\u001b[34m██████████\u001b[0m| 00:03 Sampling completed                       "
          ]
        },
        {
          "name": "stdout",
          "output_type": "stream",
          "text": [
            "                                                                                                                                                                                                                                                                                                                                "
          ]
        },
        {
          "name": "stderr",
          "output_type": "stream",
          "text": [
            "\n",
            "INFO:cmdstanpy:CmdStan done processing.\n"
          ]
        },
        {
          "name": "stdout",
          "output_type": "stream",
          "text": [
            "\n"
          ]
        }
      ],
      "source": [
        "fit_reg = model_reg.sample(data=data_for_inference,seed=seed)"
      ]
    },
    {
      "cell_type": "code",
      "execution_count": null,
      "metadata": {
        "id": "bSMMKYzil8lM"
      },
      "outputs": [],
      "source": [
        "print(fit_reg.diagnose())"
      ]
    },
    {
      "cell_type": "markdown",
      "metadata": {
        "id": "yAalKQ1Dl8lM"
      },
      "source": [
        "#### Task 2. Evaluating model\n",
        "\n",
        "1. Analyse the diagnosis of model. Are the sampling problems solved\n",
        "2. For each fitted beta coefficient plot maximum, minimum, and 5, 25, 50, 75, 95 quantiles of simulated weight (all in the same plot). Compare with true values of beta. \n",
        "3. Substract true values from fitted betas and make the same plot (residues)"
      ]
    },
    {
      "cell_type": "code",
      "execution_count": null,
      "metadata": {
        "id": "M3H-ogT4l8lM"
      },
      "outputs": [],
      "source": [
        "fit_reg.summary()\n",
        "\n",
        "beta_5 = fit_reg.summary()['5%'].loc['beta[1]':'beta[200]']\n",
        "beta_50 = fit_reg.summary()['50%'].loc['beta[1]':'beta[200]']\n",
        "beta_95 = fit_reg.summary()['95%'].loc['beta[1]':'beta[200]']\n",
        "\n",
        "beta_25 = fit_reg.draws_pd().describe().loc['25%']['beta[1]':'beta[200]']\n",
        "beta_75 = fit_reg.draws_pd().describe().loc['75%']['beta[1]':'beta[200]']\n",
        "beta_min = fit_reg.draws_pd().describe().loc['min']['beta[1]':'beta[200]']\n",
        "beta_max = fit_reg.draws_pd().describe().loc['max']['beta[1]':'beta[200]']"
      ]
    },
    {
      "cell_type": "code",
      "execution_count": null,
      "metadata": {
        "id": "unFnjmm5l8lN",
        "outputId": "792dd537-cc0a-4d26-e3e8-3aaed6ff8565"
      },
      "outputs": [
        {
          "data": {
            "image/png": "[encoded data removed]",
            "text/plain": [
              "<Figure size 1440x720 with 8 Axes>"
            ]
          },
          "metadata": {
            "needs_background": "light"
          },
          "output_type": "display_data"
        }
      ],
      "source": [
        "fig, axs = plt.subplots(2, 4, figsize=(20, 10))\n",
        "\n",
        "axs[0][0].hist(beta_min)\n",
        "axs[0][0].set_title(\"Beta min\")\n",
        "\n",
        "axs[0][1].hist(beta_5)\n",
        "axs[0][1].set_title(\"Beta 5%\")\n",
        "\n",
        "axs[0][2].hist(beta_25)\n",
        "axs[0][2].set_title(\"Beta 25%\")\n",
        "\n",
        "axs[0][3].hist(beta_50)\n",
        "axs[0][3].set_title(\"Beta 50%\")\n",
        "\n",
        "axs[1][0].hist(beta_75)\n",
        "axs[1][0].set_title(\"Beta 75%\")\n",
        "\n",
        "axs[1][1].hist(beta_95)\n",
        "axs[1][1].set_title(\"Beta 95%\")\n",
        "\n",
        "axs[1][2].hist(beta_max)\n",
        "axs[1][2].set_title(\"Beta max\")\n",
        "\n",
        "plt.show()"
      ]
    },
    {
      "cell_type": "markdown",
      "metadata": {
        "id": "t5pJzy67l8lN"
      },
      "source": [
        "### Model 3 -  Sparsity enforcing prior\n",
        "\n",
        "We will now try to enforce shrinking of small parameters using a Laplace prior. This is a prior that is used in Lasso regression. (but here is the bayesian context)"
      ]
    },
    {
      "cell_type": "code",
      "execution_count": null,
      "metadata": {
        "id": "_EgEioWkl8lN"
      },
      "outputs": [],
      "source": [
        "model_lap = CmdStanModel(stan_file = 'model3.stan')"
      ]
    },
    {
      "cell_type": "code",
      "execution_count": null,
      "metadata": {
        "id": "jP2gEdC-l8lN",
        "outputId": "ea30f57e-b28f-467b-cbc8-7a71f4c89f53"
      },
      "outputs": [
        {
          "name": "stderr",
          "output_type": "stream",
          "text": [
            "INFO:cmdstanpy:CmdStan start processing\n",
            "chain 1 |\u001b[33m          \u001b[0m| 00:00 Status\n",
            "\u001b[A\n",
            "\n",
            "chain 1 |\u001b[33m▍         \u001b[0m| 00:00 Status\n",
            "\n",
            "\u001b[A\u001b[A\n",
            "chain 1 |\u001b[33m▉         \u001b[0m| 00:24 Iteration:    1 / 2000 [  0%]  (Warmup)\n",
            "\n",
            "\u001b[A\u001b[A\n",
            "chain 1 |\u001b[33m█▎        \u001b[0m| 00:48 Iteration:  100 / 2000 [  5%]  (Warmup)\n",
            "\n",
            "\u001b[A\u001b[A\n",
            "chain 1 |\u001b[33m█▊        \u001b[0m| 01:15 Iteration:  200 / 2000 [ 10%]  (Warmup)\n",
            "\n",
            "\u001b[A\u001b[A\n",
            "chain 1 |\u001b[33m██▎       \u001b[0m| 01:41 Iteration:  300 / 2000 [ 15%]  (Warmup)\n",
            "\n",
            "\u001b[A\u001b[A\n",
            "chain 1 |\u001b[33m██▋       \u001b[0m| 02:06 Iteration:  400 / 2000 [ 20%]  (Warmup)\n",
            "\n",
            "\u001b[A\u001b[A\n",
            "chain 1 |\u001b[33m███▏      \u001b[0m| 02:30 Iteration:  500 / 2000 [ 25%]  (Warmup)\n",
            "\n",
            "\u001b[A\u001b[A\n",
            "chain 1 |\u001b[33m███▋      \u001b[0m| 02:54 Iteration:  600 / 2000 [ 30%]  (Warmup)\n",
            "\n",
            "\u001b[A\u001b[A\n",
            "chain 1 |\u001b[33m████      \u001b[0m| 03:19 Iteration:  700 / 2000 [ 35%]  (Warmup)\n",
            "\n",
            "\u001b[A\u001b[A\n",
            "chain 1 |\u001b[33m████▌     \u001b[0m| 03:43 Iteration:  800 / 2000 [ 40%]  (Warmup)\n",
            "\u001b[A\n",
            "\n",
            "chain 1 |\u001b[34m█████▍    \u001b[0m| 04:07 Iteration: 1000 / 2000 [ 50%]  (Warmup)\n",
            "\u001b[A\n",
            "\n",
            "\u001b[A\u001b[A\n",
            "\u001b[A\n",
            "\n",
            "chain 1 |\u001b[34m█████▉    \u001b[0m| 04:32 Iteration: 1001 / 2000 [ 50%]  (Sampling)\n",
            "\u001b[A\n",
            "\n",
            "chain 1 |\u001b[34m██████▎   \u001b[0m| 04:56 Iteration: 1100 / 2000 [ 55%]  (Sampling)\n",
            "\n",
            "\u001b[A\u001b[A\n",
            "chain 1 |\u001b[34m██████▊   \u001b[0m| 05:21 Iteration: 1200 / 2000 [ 60%]  (Sampling)\n",
            "\n",
            "\u001b[A\u001b[A\n",
            "chain 1 |\u001b[34m███████▎  \u001b[0m| 05:45 Iteration: 1300 / 2000 [ 65%]  (Sampling)\n",
            "\n",
            "\u001b[A\u001b[A\n",
            "chain 1 |\u001b[34m███████▋  \u001b[0m| 06:11 Iteration: 1400 / 2000 [ 70%]  (Sampling)\n",
            "\u001b[A\n",
            "\n",
            "chain 1 |\u001b[34m████████▏ \u001b[0m| 06:39 Iteration: 1500 / 2000 [ 75%]  (Sampling)\n",
            "\u001b[A\n",
            "\n",
            "chain 1 |\u001b[34m████████▋ \u001b[0m| 07:05 Iteration: 1600 / 2000 [ 80%]  (Sampling)\n",
            "\n",
            "\u001b[A\u001b[A\n",
            "chain 1 |\u001b[34m█████████ \u001b[0m| 07:27 Iteration: 1700 / 2000 [ 85%]  (Sampling)\n",
            "\n",
            "\u001b[A\u001b[A\n",
            "chain 1 |\u001b[34m█████████▌\u001b[0m| 07:50 Iteration: 1800 / 2000 [ 90%]  (Sampling)\n",
            "\n",
            "\u001b[A\u001b[A\n",
            "chain 1 |\u001b[34m██████████\u001b[0m| 08:13 Iteration: 1900 / 2000 [ 95%]  (Sampling)\n",
            "\n",
            "\u001b[A\u001b[A\n",
            "chain 1 |\u001b[34m██████████\u001b[0m| 08:13 Sampling completed                       \n",
            "chain 2 |\u001b[34m██████████\u001b[0m| 08:13 Sampling completed                       \n",
            "chain 3 |\u001b[34m██████████\u001b[0m| 08:13 Sampling completed                       \n",
            "chain 4 |\u001b[34m██████████\u001b[0m| 08:13 Sampling completed                       "
          ]
        },
        {
          "name": "stdout",
          "output_type": "stream",
          "text": [
            "                                                                                                                                                                                                                                                                                                                                "
          ]
        },
        {
          "name": "stderr",
          "output_type": "stream",
          "text": [
            "\n",
            "INFO:cmdstanpy:CmdStan done processing.\n"
          ]
        },
        {
          "name": "stdout",
          "output_type": "stream",
          "text": [
            "\n"
          ]
        }
      ],
      "source": [
        "fit_lap = model_lap.sample(data=data_for_inference,seed=seed,adapt_delta=0.99,max_treedepth=12) #sampling problematic some parameters have to be adjusted"
      ]
    },
    {
      "cell_type": "code",
      "execution_count": null,
      "metadata": {
        "id": "t19hTV7-l8lN"
      },
      "outputs": [],
      "source": [
        "print(fit_lap.diagnose())"
      ]
    },
    {
      "cell_type": "markdown",
      "metadata": {
        "id": "lPu8EX08l8lO"
      },
      "source": [
        "#### Task 3. Evaluating model\n",
        "\n",
        "1. Analyse the diagnosis of model. Are the sampling problems solved. Are there any new sampling issues?\n",
        "2. For each fitted beta coefficient plot maximum, minimum, and 5, 25, 50, 75, 95 quantiles of simulated weight (all in the same plot). Compare with true values of beta. \n",
        "3. Substract true values from fitted betas and make the same plot (residues)"
      ]
    },
    {
      "cell_type": "code",
      "execution_count": null,
      "metadata": {
        "id": "PtKXdZiKl8lO"
      },
      "outputs": [],
      "source": [
        "fit_lap.summary()\n",
        "\n",
        "beta_5 = fit_lap.summary()['5%'].loc['beta[1]':'beta[200]']\n",
        "beta_50 = fit_lap.summary()['50%'].loc['beta[1]':'beta[200]']\n",
        "beta_95 = fit_lap.summary()['95%'].loc['beta[1]':'beta[200]']\n",
        "\n",
        "beta_25 = fit_lap.draws_pd().describe().loc['25%']['beta[1]':'beta[200]']\n",
        "beta_75 = fit_lap.draws_pd().describe().loc['75%']['beta[1]':'beta[200]']\n",
        "beta_min = fit_lap.draws_pd().describe().loc['min']['beta[1]':'beta[200]']\n",
        "beta_max = fit_lap.draws_pd().describe().loc['max']['beta[1]':'beta[200]']"
      ]
    },
    {
      "cell_type": "code",
      "execution_count": null,
      "metadata": {
        "id": "GHwacOV1l8lO",
        "outputId": "f2b2ddc3-beb9-457a-ac32-c0c53c5cb788"
      },
      "outputs": [
        {
          "data": {
            "image/png": "[encoded data removed]",
            "text/plain": [
              "<Figure size 1440x720 with 8 Axes>"
            ]
          },
          "metadata": {
            "needs_background": "light"
          },
          "output_type": "display_data"
        }
      ],
      "source": [
        "fig, axs = plt.subplots(2, 4, figsize=(20, 10))\n",
        "\n",
        "axs[0][0].hist(beta_min)\n",
        "axs[0][0].set_title(\"Beta min\")\n",
        "\n",
        "axs[0][1].hist(beta_5)\n",
        "axs[0][1].set_title(\"Beta 5%\")\n",
        "\n",
        "axs[0][2].hist(beta_25)\n",
        "axs[0][2].set_title(\"Beta 25%\")\n",
        "\n",
        "axs[0][3].hist(beta_50)\n",
        "axs[0][3].set_title(\"Beta 50%\")\n",
        "\n",
        "axs[1][0].hist(beta_75)\n",
        "axs[1][0].set_title(\"Beta 75%\")\n",
        "\n",
        "axs[1][1].hist(beta_95)\n",
        "axs[1][1].set_title(\"Beta 95%\")\n",
        "\n",
        "axs[1][2].hist(beta_max)\n",
        "axs[1][2].set_title(\"Beta max\")\n",
        "\n",
        "plt.show()"
      ]
    }
  ],
  "metadata": {
    "interpreter": {
      "hash": "a4dd6d1262418fb5ba5186a9881067ae59d2d856a4683106776c6f088c4d6494"
    },
    "kernelspec": {
      "display_name": "Python 3.9.0 ('data_env')",
      "language": "python",
      "name": "python3"
    },
    "language_info": {
      "codemirror_mode": {
        "name": "ipython",
        "version": 3
      },
      "file_extension": ".py",
      "mimetype": "text/x-python",
      "name": "python",
      "nbconvert_exporter": "python",
      "pygments_lexer": "ipython3",
      "version": "3.9.0"
    },
    "orig_nbformat": 4,
    "colab": {
      "name": "sparsity.ipynb",
      "provenance": []
    }
  },
  "nbformat": 4,
  "nbformat_minor": 0
}